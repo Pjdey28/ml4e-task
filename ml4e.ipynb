{
  "nbformat": 4,
  "nbformat_minor": 0,
  "metadata": {
    "colab": {
      "provenance": [],
      "authorship_tag": "ABX9TyPsgLg9Evs1tXtjDvjZjhnf",
      "include_colab_link": true
    },
    "kernelspec": {
      "name": "python3",
      "display_name": "Python 3"
    },
    "language_info": {
      "name": "python"
    }
  },
  "cells": [
    {
      "cell_type": "markdown",
      "metadata": {
        "id": "view-in-github",
        "colab_type": "text"
      },
      "source": [
        "<a href=\"https://colab.research.google.com/github/Pjdey28/ml4e-task/blob/main/ml4e.ipynb\" target=\"_parent\"><img src=\"https://colab.research.google.com/assets/colab-badge.svg\" alt=\"Open In Colab\"/></a>"
      ]
    },
    {
      "cell_type": "code",
      "execution_count": null,
      "metadata": {
        "id": "Sesl1wMhuY-2"
      },
      "outputs": [],
      "source": [
        "import pandas as pd\n",
        "from sklearn.neighbors import NearestNeighbors\n",
        "from sklearn.preprocessing import StandardScaler\n",
        "\n",
        "class SongRecommender:\n",
        "    def __init__(self, n_neighbors=5):\n",
        "        self.n_neighbors = n_neighbors\n",
        "        self.model = None\n",
        "        self.scaler = None\n",
        "        self.df = None\n",
        "        self.feature_cols = None\n",
        "\n",
        "    def preprocess(self, df, feature_cols):\n",
        "        \"\"\"Save dataset and fit scaler\"\"\"\n",
        "        self.df = df.reset_index(drop=True)\n",
        "        self.feature_cols = feature_cols\n",
        "        self.scaler = StandardScaler()\n",
        "        X_scaled = self.scaler.fit_transform(df[feature_cols])\n",
        "        return X_scaled\n",
        "\n",
        "    def fit(self, df, feature_cols):\n",
        "        \"\"\"Fit kNN model on scaled features\"\"\"\n",
        "        X_scaled = self.preprocess(df, feature_cols)\n",
        "        self.model = NearestNeighbors(\n",
        "            n_neighbors=self.n_neighbors+1, metric=\"cosine\"\n",
        "        )\n",
        "        self.model.fit(X_scaled)\n",
        "\n",
        "    def recommend(self, song_index):\n",
        "        \"\"\"Return recommended song indices\"\"\"\n",
        "        X_scaled = self.scaler.transform(self.df[self.feature_cols])\n",
        "        distances, indices = self.model.kneighbors([X_scaled[song_index]])\n",
        "        recs = indices[0][1:]\n",
        "        return self.df.iloc[recs][[\"track_name\", \"artist_name\", \"genre\"]]\n"
      ]
    },
    {
      "cell_type": "code",
      "source": [
        "import streamlit as st\n",
        "import pandas as pd\n",
        "from recommender import SongRecommender\n",
        "\n",
        "df = pd.read_csv(\"./tcc_ceds_music.csv\")\n",
        "\n",
        "feature_cols = [\"valence\", \"energy\", \"danceability\", \"acousticness\", \"instrumentalness\"]\n",
        "\n",
        "rec = SongRecommender(n_neighbors=5)\n",
        "rec.fit(df, feature_cols)\n",
        "\n",
        "st.title(\"Song Recommendendation system\")\n",
        "\n",
        "song_list = df[\"track_name\"].dropna().unique().tolist()\n",
        "selected_song = st.selectbox(\"Choose a song:\", song_list)\n",
        "\n",
        "if st.button(\"Recommend Similar Songs\"):\n",
        "    idx = df[df[\"track_name\"] == selected_song].index[0]\n",
        "    recs = rec.recommend(idx)\n",
        "    st.write(\"### Recommended Songs\")\n",
        "    st.dataframe(recs)\n"
      ],
      "metadata": {
        "id": "pui8gSFQulNw"
      },
      "execution_count": null,
      "outputs": []
    }
  ]
}